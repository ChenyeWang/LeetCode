{
 "cells": [
  {
   "cell_type": "markdown",
   "metadata": {},
   "source": [
    "# 2385. Amount of Time for Binary Tree to Be Infected\n",
    "\n",
    "You are given the root of a binary tree with unique values, and an integer start. At minute 0, an infection starts from the node with value start.\n",
    "\n",
    "Each minute, a node becomes infected if:\n",
    "\n",
    "The node is currently uninfected.\n",
    "The node is adjacent to an infected node.\n",
    "Return the number of minutes needed for the entire tree to be infected.\n",
    "\n",
    "https://leetcode.com/problems/amount-of-time-for-binary-tree-to-be-infected/description/"
   ]
  },
  {
   "cell_type": "code",
   "execution_count": null,
   "metadata": {},
   "outputs": [],
   "source": [
    "# one pass DFS\n",
    "# https://leetcode.com/problems/amount-of-time-for-binary-tree-to-be-infected/editorial/"
   ]
  },
  {
   "cell_type": "code",
   "execution_count": null,
   "metadata": {},
   "outputs": [],
   "source": [
    "from collections import defaultdict, deque\n",
    "from typing import Optional\n",
    "\n",
    "class TreeNode:\n",
    "    def __init__(self, val=0, left=None, right=None):\n",
    "        self.val = val\n",
    "        self.left = left\n",
    "        self.right = right\n",
    "\n",
    "class Solution:\n",
    "    def amountOfTime(self, root: Optional[TreeNode], start: int) -> int:\n",
    "        # Space Complexity: O(N)\n",
    "        # Time Complexity: O(N)\n",
    "        # 转换成 undirected graph\n",
    "        adj = defaultdict(list)\n",
    "        q = deque([root])\n",
    "        while q:\n",
    "            n = q.popleft()\n",
    "            if n.left:\n",
    "                adj[n.val].append(n.left.val)\n",
    "                adj[n.left.val].append(n.val)\n",
    "                q.append(n.left)\n",
    "            if n.right:\n",
    "                adj[n.val].append(n.right.val)\n",
    "                adj[n.right.val].append(n.val)\n",
    "                q.append(n.right)\n",
    "\n",
    "        # BFS with HashSet\n",
    "        q = deque([(start, 0)])\n",
    "        res = 0\n",
    "        visited = set()\n",
    "        while q:\n",
    "            i, depth = q.popleft()\n",
    "            res = max(res, depth)\n",
    "            visited.add(i)\n",
    "            for a in adj[i]:\n",
    "                if a not in visited: q.append((a, depth + 1))\n",
    "        return res"
   ]
  }
 ],
 "metadata": {
  "language_info": {
   "name": "python"
  }
 },
 "nbformat": 4,
 "nbformat_minor": 2
}
