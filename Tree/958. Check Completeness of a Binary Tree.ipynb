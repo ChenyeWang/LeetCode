{
 "cells": [
  {
   "cell_type": "markdown",
   "metadata": {},
   "source": [
    "# 958. Check Completeness of a Binary Tree\n",
    "\n",
    "Given the root of a binary tree, determine if it is a complete binary tree.\n",
    "\n",
    "In a complete binary tree, every level, except possibly the last, is completely filled, and all nodes in the last level are as far left as possible. It can have between 1 and 2h nodes inclusive at the last level h."
   ]
  },
  {
   "cell_type": "code",
   "execution_count": null,
   "metadata": {},
   "outputs": [],
   "source": [
    "from collections import deque\n",
    "import math\n",
    "from typing import Optional\n",
    "\n",
    "\n",
    "class TreeNode:\n",
    "    def __init__(self, val=0, left=None, right=None):\n",
    "        self.val = val\n",
    "        self.left = left\n",
    "        self.right = right\n",
    "        \n",
    "class Solution:\n",
    "    def isCompleteTree(self, root: Optional[TreeNode]) -> bool:\n",
    "        # Space Complexity: O(W)\n",
    "        # Time Complexity: O(N)\n",
    "        queue = deque([(root, 0, 1)])\n",
    "        curr_depth = 0\n",
    "        curr_val = 1\n",
    "        while queue:\n",
    "            node, depth, val = queue.popleft()\n",
    "            if curr_depth == depth and curr_val == val:\n",
    "                if curr_val == math.pow(2, curr_depth):\n",
    "                    curr_depth += 1\n",
    "                    curr_val = 1\n",
    "                else:\n",
    "                    curr_val += 1\n",
    "            else:\n",
    "                return False\n",
    "            if node.left: queue.append((node.left, depth + 1, val * 2 - 1)) # labelling 找规律\n",
    "            if node.right: queue.append((node.right, depth + 1, val * 2))\n",
    "        return True"
   ]
  }
 ],
 "metadata": {
  "language_info": {
   "name": "python"
  }
 },
 "nbformat": 4,
 "nbformat_minor": 2
}
