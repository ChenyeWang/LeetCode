{
 "cells": [
  {
   "cell_type": "markdown",
   "metadata": {},
   "source": [
    "# 1361. Validate Binary Tree Nodes\n",
    "\n",
    "You have n binary tree nodes numbered from 0 to n - 1 where node i has two children leftChild[i] and rightChild[i], return true if and only if all the given nodes form exactly one valid binary tree.\n",
    "\n",
    "If node i has no left child then leftChild[i] will equal -1, similarly for the right child.\n",
    "\n",
    "Note that the nodes have no values and that we only use the node numbers in this problem.\n",
    "\n",
    "https://leetcode.com/problems/validate-binary-tree-nodes/"
   ]
  },
  {
   "cell_type": "code",
   "execution_count": null,
   "metadata": {},
   "outputs": [],
   "source": [
    "from collections import deque\n",
    "from typing import List\n",
    "\n",
    "class Solution:\n",
    "    # Space Complexity: O(N)\n",
    "    # Time Complexity: O(N)\n",
    "    def validateBinaryTreeNodes(self, n: int, leftChild: List[int], rightChild: List[int]) -> bool:\n",
    "        # 找到根节点（不是任何节点的左/右节点）\n",
    "        notChild = set([i for i in range(n)])\n",
    "        for lc in leftChild:\n",
    "            if lc != -1:\n",
    "                if lc in notChild: notChild.remove(lc)\n",
    "                else: return False\n",
    "        for rc in rightChild:\n",
    "            if rc != -1:\n",
    "                if rc in notChild: notChild.remove(rc)\n",
    "                else: return False\n",
    "        if len(notChild) == 1: # 找到根节点后 BFS\n",
    "            visited = 0\n",
    "            q = deque([notChild.pop()])\n",
    "            while q:\n",
    "                i = q.popleft()\n",
    "                visited += 1\n",
    "                if leftChild[i] != -1:\n",
    "                    q.append(leftChild[i])\n",
    "                if rightChild[i] != -1:\n",
    "                    q.append(rightChild[i])\n",
    "            return visited == n # 判断 forest 的情况\n",
    "        else:\n",
    "            return False"
   ]
  },
  {
   "cell_type": "code",
   "execution_count": null,
   "metadata": {},
   "outputs": [],
   "source": [
    "# Union Find\n",
    "# https://leetcode.com/problems/validate-binary-tree-nodes/editorial/"
   ]
  }
 ],
 "metadata": {
  "language_info": {
   "name": "python"
  }
 },
 "nbformat": 4,
 "nbformat_minor": 2
}
