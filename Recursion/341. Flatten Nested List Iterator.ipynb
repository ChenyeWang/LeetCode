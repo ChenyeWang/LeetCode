{
 "cells": [
  {
   "cell_type": "markdown",
   "metadata": {},
   "source": [
    "# 341. Flatten Nested List Iterator\n",
    "\n",
    "You are given a nested list of integers nestedList. Each element is either an integer or a list whose elements may also be integers or other lists. Implement an iterator to flatten it.\n",
    "\n",
    "Implement the NestedIterator class:\n",
    "\n",
    "NestedIterator(List<NestedInteger> nestedList) Initializes the iterator with the nested list nestedList.\n",
    "int next() Returns the next integer in the nested list.\n",
    "boolean hasNext() Returns true if there are still some integers in the nested list and false otherwise.\n",
    "Your code will be tested with the following pseudocode:\n",
    "\n",
    "initialize iterator with nestedList\n",
    "res = []\n",
    "while iterator.hasNext()\n",
    "    append iterator.next() to the end of res\n",
    "return res\n",
    "If res matches the expected flattened list, then your code will be judged as correct.\n",
    "\n",
    "https://leetcode.com/problems/flatten-nested-list-iterator/description/"
   ]
  },
  {
   "cell_type": "code",
   "execution_count": null,
   "metadata": {},
   "outputs": [],
   "source": [
    "from typing import Generator\n",
    "\n",
    "class NestedIterator:\n",
    "\n",
    "    # Time Complexity: O(1)\n",
    "    # Space Complexity: O(Depth)\n",
    "    def __init__(self, nestedList: [NestedInteger]):\n",
    "        self._generator = self._int_generator(nestedList)\n",
    "        self._peeked = None\n",
    "\n",
    "    # Amortized Time Complexity: O(1)\n",
    "    def _int_generator(self, nested_list) -> \"Generator[int]\":\n",
    "        for nested in nested_list:\n",
    "            if nested.isInteger():\n",
    "                yield nested.getInteger()\n",
    "            else:\n",
    "                # yield from 用在 recursive generator calls 等同于\n",
    "                # for integer in flatten_list(nested_integer.getList()):\n",
    "                #   yield integer\n",
    "                yield from self._int_generator(nested.getList())\n",
    "        # 自动 raise StopIteration.\n",
    "    \n",
    "    def next(self) -> int:\n",
    "        if not self.hasNext(): return None\n",
    "        # 获取并清空 self._peeked\n",
    "        next_integer, self._peeked = self._peeked, None\n",
    "        return next_integer\n",
    "        \n",
    "    def hasNext(self) -> bool:\n",
    "        if self._peeked is not None: return True\n",
    "        try: # 从 generator 取出下一个值\n",
    "            self._peeked = next(self._generator)\n",
    "            return True\n",
    "        except: # generator 完成，收到 StopIteration\n",
    "            return False"
   ]
  },
  {
   "cell_type": "code",
   "execution_count": null,
   "metadata": {},
   "outputs": [],
   "source": [
    "# int generator 改编自这样的 DFS\n",
    "integers = []\n",
    "def flatten_list(nested_list):\n",
    "    for nested_integer in nested_list:\n",
    "        if nested_integer.isInteger():\n",
    "            integers.append(nested_integer.getInteger())\n",
    "        else:\n",
    "            flatten_list(nested_integer.getList())"
   ]
  }
 ],
 "metadata": {
  "language_info": {
   "name": "python"
  }
 },
 "nbformat": 4,
 "nbformat_minor": 2
}
