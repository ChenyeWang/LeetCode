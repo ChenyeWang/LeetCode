{
    "cells": [
        {
            "cell_type": "markdown",
            "metadata": {},
            "source": [
                "# 234. Palindrome Linked List\n",
                "\n",
                "Given the head of a singly linked list, return true if it is a \n",
                "palindrome or false otherwise.\n",
                "\n",
                "https://leetcode.com/problems/palindrome-linked-list/"
            ]
        },
        {
            "cell_type": "code",
            "execution_count": 1,
            "metadata": {},
            "outputs": [],
            "source": [
                "from typing import Optional\n",
                "\n",
                "class ListNode:\n",
                "    def __init__(self, val=0, next=None):\n",
                "        self.val = val\n",
                "        self.next = next\n",
                "\n",
                "class Solution:\n",
                "    # Time Complexity: O(N)\n",
                "    # Space Complexity: O(1)\n",
                "    def isPalindrome(self, head: Optional[ListNode]) -> bool:\n",
                "        l = 0\n",
                "        curr = head\n",
                "        while curr:\n",
                "            l += 1\n",
                "            curr = curr.next\n",
                "        curr = head\n",
                "        for _ in range(l//2):\n",
                "            curr = curr.next\n",
                "        prev, curr = curr, curr.next\n",
                "        while curr:\n",
                "            tmp = curr.next\n",
                "            curr.next = prev\n",
                "            curr, prev = tmp, curr\n",
                "        for _ in range(l//2):\n",
                "            if prev.val != head.val:\n",
                "                return False\n",
                "            prev = prev.next\n",
                "            head = head.next\n",
                "        return True"
            ]
        }
    ],
    "metadata": {
        "kernelspec": {
            "display_name": "Python 3",
            "language": "python",
            "name": "python3"
        },
        "language_info": {
            "codemirror_mode": {
                "name": "ipython",
                "version": 3
            },
            "file_extension": ".py",
            "mimetype": "text/x-python",
            "name": "python",
            "nbconvert_exporter": "python",
            "pygments_lexer": "ipython3",
            "version": "3.8.8"
        }
    },
    "nbformat": 4,
    "nbformat_minor": 2
}
