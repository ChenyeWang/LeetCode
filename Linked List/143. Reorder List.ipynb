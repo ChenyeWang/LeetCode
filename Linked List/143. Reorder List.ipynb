{
    "cells": [
        {
            "cell_type": "markdown",
            "metadata": {},
            "source": [
                "# 143. Reorder List\n",
                "\n",
                "You are given the head of a singly linked-list. The list can be represented as:\n",
                "\n",
                "L0 → L1 → … → Ln - 1 → Ln\n",
                "Reorder the list to be on the following form:\n",
                "\n",
                "L0 → Ln → L1 → Ln - 1 → L2 → Ln - 2 → …\n",
                "You may not modify the values in the list's nodes. Only nodes themselves may be changed.\n",
                "\n",
                "https://leetcode.com/problems/reorder-list/description/"
            ]
        },
        {
            "cell_type": "code",
            "execution_count": 1,
            "metadata": {},
            "outputs": [],
            "source": [
                "from typing import Optional\n",
                "\n",
                "class ListNode:\n",
                "    def __init__(self, val=0, next=None):\n",
                "        self.val = val\n",
                "        self.next = next\n",
                "\n",
                "class Solution:\n",
                "    # Time Complexity: O(N)\n",
                "    # Space Complexity: O(1)\n",
                "    def reorderList(self, head: Optional[ListNode]) -> None:\n",
                "        # edge case: size 0 or 1\n",
                "        if not head or not head.next: return head\n",
                "        # count the length\n",
                "        curr = head\n",
                "        l = 0\n",
                "        while curr:\n",
                "            l += 1\n",
                "            curr = curr.next\n",
                "        # find the middle\n",
                "        curr = head\n",
                "        for _ in range(l//2-1):\n",
                "            curr = curr.next\n",
                "        if l%2 == 1: curr = curr.next\n",
                "        # cut the connection\n",
                "        tail = curr.next\n",
                "        curr.next = None\n",
                "        prev = None\n",
                "        # reverse second half\n",
                "        while tail:\n",
                "            tmp = tail.next\n",
                "            tail.next = prev\n",
                "            prev, tail = tail, tmp\n",
                "        rev, curr = prev, head\n",
                "        # reset linking\n",
                "        for _ in range(l//2):\n",
                "            curr_tmp = curr.next\n",
                "            curr.next = rev\n",
                "            if rev:\n",
                "                rev_tmp = rev.next\n",
                "                rev.next = curr_tmp\n",
                "                curr, rev = curr_tmp, rev_tmp\n",
                "        return head"
            ]
        }
    ],
    "metadata": {
        "kernelspec": {
            "display_name": "Python 3",
            "language": "python",
            "name": "python3"
        },
        "language_info": {
            "codemirror_mode": {
                "name": "ipython",
                "version": 3
            },
            "file_extension": ".py",
            "mimetype": "text/x-python",
            "name": "python",
            "nbconvert_exporter": "python",
            "pygments_lexer": "ipython3",
            "version": "3.8.8"
        }
    },
    "nbformat": 4,
    "nbformat_minor": 2
}
