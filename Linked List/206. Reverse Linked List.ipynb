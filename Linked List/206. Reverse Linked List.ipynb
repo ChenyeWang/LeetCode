{
    "cells": [
        {
            "cell_type": "markdown",
            "metadata": {},
            "source": [
                "# 206. Reverse Linked List\n",
                "\n",
                "Given the head of a singly linked list, reverse the list, and return the reversed list.\n",
                "\n",
                "https://leetcode.com/problems/reverse-linked-list/description/"
            ]
        },
        {
            "cell_type": "code",
            "execution_count": null,
            "metadata": {},
            "outputs": [],
            "source": [
                "# Time Complexity: O()\n",
                "# Space Complexity: O()\n",
                "\n",
                "# Definition for singly-linked list.\n",
                "\n",
                "class ListNode:\n",
                "    def __init__(self, val=0, next=None):\n",
                "        self.val = val\n",
                "        self.next = next\n",
                "\n",
                "class Solution:\n",
                "    def reverseList(self, head: Optional[ListNode]) -> Optional[ListNode]:\n",
                "        if head == None: return head\n",
                "        p2 = head\n",
                "        p1 = p2.next\n",
                "        \n",
                "        while p2!= None and p1!= None:\n",
                "      \n",
                "            temp = p1.next\n",
                "            p1.next = p2\n",
                "            p2 = p1\n",
                "            p1 = temp\n",
                "        head.next = None\n",
                "        return p2\n",
                "\n",
                "        "
            ]
        }
    ],
    "metadata": {
        "kernelspec": {
            "display_name": "Python 3",
            "language": "python",
            "name": "python3"
        },
        "language_info": {
            "codemirror_mode": {
                "name": "ipython",
                "version": 3
            },
            "file_extension": ".py",
            "mimetype": "text/x-python",
            "name": "python",
            "nbconvert_exporter": "python",
            "pygments_lexer": "ipython3",
            "version": "3.8.8"
        }
    },
    "nbformat": 4,
    "nbformat_minor": 2
}
