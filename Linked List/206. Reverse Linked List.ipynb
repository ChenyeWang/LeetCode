{
    "cells": [
        {
            "cell_type": "markdown",
            "metadata": {},
            "source": [
                "# 206. Reverse Linked List\n",
                "\n",
                "Given the head of a singly linked list, reverse the list, and return the reversed list.\n",
                "\n",
                "https://leetcode.com/problems/reverse-linked-list/description/"
            ]
        },
        {
            "cell_type": "code",
            "execution_count": 1,
            "metadata": {},
            "outputs": [],
            "source": [
                "from typing import Optional\n",
                "\n",
                "class ListNode:\n",
                "    def __init__(self, val=0, next=None):\n",
                "        self.val = val\n",
                "        self.next = next\n",
                "        \n",
                "class Solution:\n",
                "    # Time Complexity: O(N)\n",
                "    # Space Complexity: O(1)\n",
                "    def reverseList(self, head: Optional[ListNode]) -> Optional[ListNode]:\n",
                "        curr = head\n",
                "        prev = None\n",
                "        while curr:\n",
                "            tmp = curr.next\n",
                "            curr.next = prev\n",
                "            prev, curr = curr, tmp\n",
                "        return prev"
            ]
        }
    ],
    "metadata": {
        "kernelspec": {
            "display_name": "Python 3",
            "language": "python",
            "name": "python3"
        },
        "language_info": {
            "codemirror_mode": {
                "name": "ipython",
                "version": 3
            },
            "file_extension": ".py",
            "mimetype": "text/x-python",
            "name": "python",
            "nbconvert_exporter": "python",
            "pygments_lexer": "ipython3",
            "version": "3.8.8"
        }
    },
    "nbformat": 4,
    "nbformat_minor": 2
}
