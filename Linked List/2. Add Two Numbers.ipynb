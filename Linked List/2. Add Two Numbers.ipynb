{
 "cells": [
  {
   "cell_type": "markdown",
   "metadata": {},
   "source": [
    "# 2. Add Two Numbers\n",
    "\n",
    "You are given two non-empty linked lists representing two non-negative integers. The digits are stored in reverse order, and each of their nodes contains a single digit. Add the two numbers and return the sum as a linked list.\n",
    "\n",
    "You may assume the two numbers do not contain any leading zero, except the number 0 itself.\n",
    "\n",
    "https://leetcode.com/problems/add-two-numbers/description/"
   ]
  },
  {
   "cell_type": "code",
   "execution_count": null,
   "metadata": {},
   "outputs": [],
   "source": [
    "from typing import Optional\n",
    "\n",
    "class ListNode:\n",
    "    def __init__(self, val=0, next=None):\n",
    "        self.val = val\n",
    "        self.next = next\n",
    "        \n",
    "class Solution:\n",
    "    def addTwoNumbers(self, l1: Optional[ListNode], l2: Optional[ListNode]) -> Optional[ListNode]:\n",
    "        # Time Complexity: O(M + N)\n",
    "        # Space Complexity: O(1)\n",
    "        carry = 0\n",
    "        dummy = curr = ListNode()\n",
    "        while l1 or l2 or carry != 0:\n",
    "            num = carry\n",
    "            if l1: num += l1.val\n",
    "            if l2: num += l2.val\n",
    "            num, carry = num%10, num//10\n",
    "            # in place\n",
    "            if l1:\n",
    "                curr.next = l1\n",
    "                l1.val = num\n",
    "            elif l2:\n",
    "                curr.next = l2\n",
    "                l2.val = num\n",
    "            else:\n",
    "                curr.next = ListNode(num)\n",
    "            curr = curr.next\n",
    "            if l1: l1 = l1.next\n",
    "            if l2: l2 = l2.next\n",
    "\n",
    "        return dummy.next"
   ]
  }
 ],
 "metadata": {
  "language_info": {
   "name": "python"
  }
 },
 "nbformat": 4,
 "nbformat_minor": 2
}
