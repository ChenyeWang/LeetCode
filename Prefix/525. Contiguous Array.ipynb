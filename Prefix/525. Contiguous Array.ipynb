{
 "cells": [
  {
   "cell_type": "markdown",
   "metadata": {},
   "source": [
    "# 525. Contiguous Array\n",
    "\n",
    "Given a binary array nums, return the maximum length of a contiguous subarray with an equal number of 0 and 1.\n",
    "\n",
    "https://leetcode.com/problems/contiguous-array/description/"
   ]
  },
  {
   "cell_type": "code",
   "execution_count": null,
   "metadata": {},
   "outputs": [],
   "source": [
    "from typing import List\n",
    "\n",
    "class Solution:\n",
    "    def findMaxLength(self, nums: List[int]) -> int:\n",
    "        # Time Complexity: O(N)\n",
    "        # Space Complexity: O(N)\n",
    "        prefix = {0: -1} \n",
    "        count = res = 0\n",
    "        for i, num in enumerate(nums):\n",
    "            if num == 1: \n",
    "                count += 1\n",
    "            else: \n",
    "                count -= 1\n",
    "            if count not in prefix:\n",
    "                prefix[count] = i # 只记录prefix第一次出现的位置\n",
    "            else:\n",
    "                res = max(res, i - prefix[count]) # 到相同prefix第一次出现的距离\n",
    "        return res"
   ]
  }
 ],
 "metadata": {
  "language_info": {
   "name": "python"
  }
 },
 "nbformat": 4,
 "nbformat_minor": 2
}
