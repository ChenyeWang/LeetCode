{
 "cells": [
  {
   "cell_type": "markdown",
   "metadata": {},
   "source": [
    "# 621. Task Scheduler\n",
    "\n",
    "You are given an array of CPU tasks, each represented by letters A to Z, and a cooling time, n. Each cycle or interval allows the completion of one task. Tasks can be completed in any order, but there's a constraint: identical tasks must be separated by at least n intervals due to cooling time.\n",
    "\n",
    "​Return the minimum number of intervals required to complete all tasks.\n",
    "\n",
    "https://leetcode.com/problems/task-scheduler/description/?envType=daily-question&envId=2024-03-19"
   ]
  },
  {
   "cell_type": "code",
   "execution_count": null,
   "metadata": {},
   "outputs": [],
   "source": [
    "class Solution:\n",
    "    def leastInterval(self, tasks: List[str], n: int) -> int:\n",
    "        # Space Complexity: O(26) = O(1)\n",
    "        count = [0] * 26\n",
    "        max_count = 0\n",
    "        for task in tasks:\n",
    "            count[ord(task) - ord('A')] += 1\n",
    "            max_count = max(max_count, count[ord(task) - ord('A')])\n",
    "\n",
    "        # A, B, C\n",
    "        # A, B\n",
    "        times = (max_count - 1) * (n + 1)\n",
    "        # A\n",
    "        for c in count:\n",
    "            if c == max_count:\n",
    "                times += 1\n",
    "        # times: some idle time\n",
    "        # tasks: full time\n",
    "        return max(len(tasks), times)"
   ]
  }
 ],
 "metadata": {
  "language_info": {
   "name": "python"
  }
 },
 "nbformat": 4,
 "nbformat_minor": 2
}
