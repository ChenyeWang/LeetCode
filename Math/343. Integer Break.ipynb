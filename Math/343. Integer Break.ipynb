{
 "cells": [
  {
   "cell_type": "markdown",
   "metadata": {},
   "source": [
    "# 343. Integer Break\n",
    "\n",
    "Given an integer n, break it into the sum of k positive integers, where k >= 2, and maximize the product of those integers.\n",
    "\n",
    "Return the maximum product you can get.\n",
    "\n",
    "https://leetcode.com/problems/integer-break/description/\n",
    "\n",
    "找到规律：\n",
    "2 = 1 + 1, 2 > 1 * 1\n",
    "3 = 1 + 2, 3 > 1 * 2\n",
    "4 = 4, 4 = 4\n",
    "5 = 2 + 3, 5 < 2 * 3\n",
    "6 = 3 + 3, 6 < 3 * 3\n",
    "7 = 3 + 4, 7 < 3 * 4\n",
    "8 = 3 + 3 + 2, 8 < 3 * 3 * 2\n",
    "9 = 3 + 3 + 3, 9 < 3 * 3 * 3\n"
   ]
  },
  {
   "cell_type": "code",
   "execution_count": null,
   "metadata": {},
   "outputs": [],
   "source": [
    "class Solution:\n",
    "    def integerBreak(self, n: int) -> int:\n",
    "        # Time Complexity: O(1)\n",
    "        # Space Complexity: O(N)\n",
    "        # 2, 3\n",
    "        if n <= 3: return n - 1\n",
    "        # 3, 6, 9\n",
    "        if n % 3 == 0: return 3 ** (n // 3)\n",
    "        # 4, 7\n",
    "        if n % 3 == 1: return 3 ** (n // 3 - 1) * 4\n",
    "        # 5, 8\n",
    "        return 3 ** (n // 3) * 2"
   ]
  }
 ],
 "metadata": {
  "language_info": {
   "name": "python"
  }
 },
 "nbformat": 4,
 "nbformat_minor": 2
}
