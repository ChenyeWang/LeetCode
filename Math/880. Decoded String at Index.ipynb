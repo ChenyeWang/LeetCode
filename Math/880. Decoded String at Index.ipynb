{
 "cells": [
  {
   "cell_type": "markdown",
   "metadata": {},
   "source": [
    "# 880. Decoded String at Index\n",
    "\n",
    "You are given an encoded string s. To decode the string to a tape, the encoded string is read one character at a time and the following steps are taken:\n",
    "\n",
    "If the character read is a letter, that letter is written onto the tape.\n",
    "If the character read is a digit d, the entire current tape is repeatedly written d - 1 more times in total.\n",
    "Given an integer k, return the kth letter (1-indexed) in the decoded string.\n",
    "\n",
    "https://leetcode.com/problems/decoded-string-at-index/description/\n",
    "\n",
    "找规律：对于一个重复10次的长度为5的字符串来说，k=4 和 k=24 的结果是一样的，所以我们可以求 k % len(substring)"
   ]
  },
  {
   "cell_type": "code",
   "execution_count": null,
   "metadata": {},
   "outputs": [],
   "source": [
    "class Solution(object):\n",
    "    def decodeAtIndex(self, S, K):\n",
    "        size = 0\n",
    "        # Find size = length of decoded string\n",
    "        for c in S:\n",
    "            if c.isdigit():\n",
    "                size *= int(c)\n",
    "            else:\n",
    "                size += 1\n",
    "\n",
    "        for c in reversed(S):\n",
    "            K %= size\n",
    "            if K == 0 and c.isalpha():\n",
    "                return c\n",
    "\n",
    "            if c.isdigit():\n",
    "                size /= int(c)\n",
    "            else:\n",
    "                size -= 1"
   ]
  }
 ],
 "metadata": {
  "language_info": {
   "name": "python"
  }
 },
 "nbformat": 4,
 "nbformat_minor": 2
}
