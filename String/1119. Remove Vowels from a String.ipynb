{
    "cells": [
        {
            "cell_type": "markdown",
            "metadata": {},
            "source": [
                "# 1119. Remove Vowels from a String\n",
                "\n",
                "Given a string s, remove the vowels 'a', 'e', 'i', 'o', and 'u' from it, and return the new string.\n",
                "\n",
                "https://leetcode.com/problems/remove-vowels-from-a-string/description/"
            ]
        },
        {
            "cell_type": "code",
            "execution_count": 1,
            "metadata": {},
            "outputs": [],
            "source": [
                "# Time Complexity: O(N)\n",
                "# Space Complexity: O(N), only C++ has O(1) mutable string \n",
                "class Solution:\n",
                "    def removeVowels(self, s: str) -> str:\n",
                "        vowels = {'a', 'e', 'i', 'o', 'u'}\n",
                "        res = []\n",
                "        for c in s:\n",
                "            if c not in vowels:\n",
                "                res.append(c)\n",
                "        return ''.join(res)"
            ]
        }
    ],
    "metadata": {
        "kernelspec": {
            "display_name": "Python 3",
            "language": "python",
            "name": "python3"
        },
        "language_info": {
            "codemirror_mode": {
                "name": "ipython",
                "version": 3
            },
            "file_extension": ".py",
            "mimetype": "text/x-python",
            "name": "python",
            "nbconvert_exporter": "python",
            "pygments_lexer": "ipython3",
            "version": "3.8.8"
        }
    },
    "nbformat": 4,
    "nbformat_minor": 2
}
