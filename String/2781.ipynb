{
 "cells": [
  {
   "cell_type": "markdown",
   "metadata": {},
   "source": [
    "# 2781. Length of the Longest Valid Substring\n",
    "\n",
    "You are given a string word and an array of strings forbidden.\n",
    "\n",
    "A string is called valid if none of its substrings are present in forbidden.\n",
    "\n",
    "Return the length of the longest valid substring of the string word.\n",
    "\n",
    "A substring is a contiguous sequence of characters in a string, possibly empty."
   ]
  },
  {
   "cell_type": "code",
   "execution_count": null,
   "metadata": {},
   "outputs": [],
   "source": [
    "from typing import List\n",
    "\n",
    "def leftToRight(self, word: str, forbidden: List[str]) -> int:\n",
    "    forbidden = set(forbidden)\n",
    "    left = res = 0\n",
    "    for right in range(1, len(word)+1):\n",
    "        for start in range(right, max(right-10, left), -1):\n",
    "            if word[start-1:right] in forbidden:\n",
    "                left = start\n",
    "                break\n",
    "        res = max(res, right - left)\n",
    "    return res    "
   ]
  },
  {
   "cell_type": "code",
   "execution_count": null,
   "metadata": {},
   "outputs": [],
   "source": [
    "def rightToLeft(self, word: str, forbidden: List[str]) -> int:\n",
    "    forbidden = set(forbidden) # use hash to improve string comparison\n",
    "    res = 0\n",
    "    right = len(word)\n",
    "    for left in range(len(word)-1, -1, -1):\n",
    "        # notice that 1 < len(forbidden[i]) <= 10\n",
    "        for k in range(left, min(right, left + 10)):\n",
    "            if word[left: k+1] in forbidden:\n",
    "                right = k\n",
    "                break\n",
    "        res = max(res, right - left)\n",
    "    return res"
   ]
  },
  {
   "cell_type": "code",
   "execution_count": null,
   "metadata": {},
   "outputs": [],
   "source": [
    "def slidingWindow(self, word: str, forbidden: List[str]) -> int:\n",
    "    # len(word) = n, len(forbidden) = m, Time Complexity: O(nm)\n",
    "    left = 0\n",
    "    res = 0\n",
    "    for right in range(1, len(word)+1):\n",
    "        flag = True\n",
    "        while flag:\n",
    "            flag = False\n",
    "            for f in forbidden:\n",
    "                if len(f) <= right - left:\n",
    "                    if f == word[left: left + len(f)]:\n",
    "                        left += 1\n",
    "                        flag = True\n",
    "                        break\n",
    "                    elif f == word[right - len(f): right]:\n",
    "                        left = right - len(f) + 1\n",
    "                        flag = True\n",
    "                        break\n",
    "                    \n",
    "        res = max(right - left, res)\n",
    "    return res"
   ]
  }
 ],
 "metadata": {
  "language_info": {
   "name": "python"
  }
 },
 "nbformat": 4,
 "nbformat_minor": 2
}
