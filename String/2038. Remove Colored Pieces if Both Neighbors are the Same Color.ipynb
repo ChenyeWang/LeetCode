{
 "cells": [
  {
   "cell_type": "markdown",
   "metadata": {},
   "source": [
    "# 2038. Remove Colored Pieces if Both Neighbors are the Same Color\n",
    "\n",
    "There are n pieces arranged in a line, and each piece is colored either by 'A' or by 'B'. You are given a string colors of length n where colors[i] is the color of the ith piece.\n",
    "\n",
    "Alice and Bob are playing a game where they take alternating turns removing pieces from the line. In this game, Alice moves first.\n",
    "\n",
    "Alice is only allowed to remove a piece colored 'A' if both its neighbors are also colored 'A'. She is not allowed to remove pieces that are colored 'B'.\n",
    "Bob is only allowed to remove a piece colored 'B' if both its neighbors are also colored 'B'. He is not allowed to remove pieces that are colored 'A'.\n",
    "Alice and Bob cannot remove pieces from the edge of the line.\n",
    "If a player cannot make a move on their turn, that player loses and the other player wins.\n",
    "Assuming Alice and Bob play optimally, return true if Alice wins, or return false if Bob wins.\n",
    "\n",
    "https://leetcode.com/problems/remove-colored-pieces-if-both-neighbors-are-the-same-color/description/"
   ]
  },
  {
   "cell_type": "code",
   "execution_count": null,
   "metadata": {},
   "outputs": [],
   "source": [
    "class Solution:\n",
    "    def winnerOfGame(self, colors: str) -> bool:\n",
    "        # Time Complexity: O(N)\n",
    "        # Space Complexity: O(1)\n",
    "        a = b = 0\n",
    "        for i in range(len(colors)-2):\n",
    "            if colors[i] == colors[i+1] == colors[i+2]:\n",
    "                if colors[i] == 'A': a += 1\n",
    "                else: b += 1\n",
    "        return a > b"
   ]
  }
 ],
 "metadata": {
  "language_info": {
   "name": "python"
  }
 },
 "nbformat": 4,
 "nbformat_minor": 2
}
