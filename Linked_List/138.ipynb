{
 "cells": [
  {
   "cell_type": "markdown",
   "metadata": {},
   "source": [
    "# 138. Copy List with Random Pointer\n",
    "\n",
    "A linked list of length n is given such that each node contains an additional random pointer, which could point to any node in the list, or null.\n",
    "\n",
    "Construct a deep copy of the list. The deep copy should consist of exactly n brand new nodes, where each new node has its value set to the value of its corresponding original node. Both the next and random pointer of the new nodes should point to new nodes in the copied list such that the pointers in the original list and copied list represent the same list state. None of the pointers in the new list should point to nodes in the original list.\n",
    "\n",
    "For example, if there are two nodes X and Y in the original list, where X.random --> Y, then for the corresponding two nodes x and y in the copied list, x.random --> y.\n",
    "\n",
    "Return the head of the copied linked list.\n",
    "\n",
    "The linked list is represented in the input/output as a list of n nodes. Each node is represented as a pair of [val, random_index] where:\n",
    "\n",
    "val: an integer representing Node.val\n",
    "random_index: the index of the node (range from 0 to n-1) that the random pointer points to, or null if it does not point to any node.\n",
    "Your code will only be given the head of the original linked list.\n",
    "\n",
    "https://leetcode.com/problems/copy-list-with-random-pointer/description/"
   ]
  },
  {
   "cell_type": "code",
   "execution_count": null,
   "metadata": {},
   "outputs": [],
   "source": [
    "from typing import Optional\n",
    "\n",
    "class Node:\n",
    "    def __init__(self, x: int, next: 'Node' = None, random: 'Node' = None):\n",
    "        self.val = int(x)\n",
    "        self.next = next\n",
    "        self.random = random\n",
    "\n",
    "class Solution:\n",
    "    def copyRandomList(self, head: 'Optional[Node]') -> 'Optional[Node]':\n",
    "        res = curr = Node(0)\n",
    "        copy = dict() # key 是老的，value 是新的\n",
    "        while head:\n",
    "            if head not in copy:\n",
    "                copy[head] = Node(head.val)\n",
    "            if head.next:\n",
    "                if head.next not in copy:\n",
    "                    copy[head.next] = Node(head.next.val)\n",
    "                copy[head].next = copy[head.next]\n",
    "            if head.random:\n",
    "                if head.random not in copy:\n",
    "                    copy[head.random] = Node(head.random.val)\n",
    "                copy[head].random = copy[head.random]\n",
    "            curr.next = copy[head]\n",
    "            curr = curr.next\n",
    "            head = head.next\n",
    "        return res.next"
   ]
  }
 ],
 "metadata": {
  "language_info": {
   "name": "python"
  }
 },
 "nbformat": 4,
 "nbformat_minor": 2
}
