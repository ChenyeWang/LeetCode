{
 "cells": [
  {
   "cell_type": "markdown",
   "metadata": {},
   "source": [
    "# 1481. Least Number of Unique Integers after K Removals\n",
    "\n",
    "Given an array of integers arr and an integer k. Find the least number of unique integers after removing exactly k elements.\n",
    "\n",
    "https://leetcode.com/problems/least-number-of-unique-integers-after-k-removals/description/"
   ]
  },
  {
   "cell_type": "code",
   "execution_count": null,
   "metadata": {},
   "outputs": [],
   "source": [
    "from collections import Counter\n",
    "from typing import List\n",
    "\n",
    "class Solution:\n",
    "    # Space Complexity: O(N)\n",
    "    # Time Complexity: O(N)\n",
    "    def countingSortApproach(self, arr: List[int], k: int) -> int:\n",
    "        count = Counter(arr)\n",
    "        # counting sort for \"times\", since we don't care specific number\n",
    "        frequencies = [0] * (len(arr) + 1)\n",
    "        for c in count.values():\n",
    "            frequencies[c] += 1\n",
    "        res = len(count)\n",
    "        for times in range(1, len(arr)+1):\n",
    "            num_remove = min(k // times, frequencies[times])\n",
    "            k -= times * num_remove\n",
    "            res -= num_remove\n",
    "            if k < times+1: return res\n",
    "        return 0\n",
    "    \n",
    "    # Space Complexity: O(M)\n",
    "    # Time Complexity: O(N + MlogM)\n",
    "    def sortApproach(self, arr: List[int], k: int) -> int:\n",
    "        count = Counter(arr)\n",
    "        for i, n in enumerate(sorted(count.values())):\n",
    "            if n <= k:\n",
    "                k -= n\n",
    "            else:\n",
    "                return len(count.keys()) - i\n",
    "        return 0"
   ]
  }
 ],
 "metadata": {
  "language_info": {
   "name": "python"
  }
 },
 "nbformat": 4,
 "nbformat_minor": 2
}
