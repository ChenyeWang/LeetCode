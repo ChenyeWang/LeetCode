{
 "cells": [
  {
   "cell_type": "markdown",
   "metadata": {},
   "source": [
    "# 155. Min Stack\n",
    "\n",
    "Design a stack that supports push, pop, top, and retrieving the minimum element in constant time.\n",
    "\n",
    "Implement the MinStack class:\n",
    "\n",
    "MinStack() initializes the stack object.\n",
    "void push(int val) pushes the element val onto the stack.\n",
    "void pop() removes the element on the top of the stack.\n",
    "int top() gets the top element of the stack.\n",
    "int getMin() retrieves the minimum element in the stack.\n",
    "You must implement a solution with O(1) time complexity for each function.\n",
    "\n",
    "https://leetcode.com/problems/min-stack/description/"
   ]
  },
  {
   "cell_type": "code",
   "execution_count": null,
   "metadata": {},
   "outputs": [],
   "source": [
    "from collections import deque\n",
    "\n",
    "class MinStack:\n",
    "\n",
    "    def __init__(self):\n",
    "        self.stack = deque() # 真正的 stack\n",
    "        self.min_stack = deque() # 只保存递减或持平的最小值\n",
    "\n",
    "    def push(self, val: int) -> None: # Time Complexity O(1)\n",
    "        self.stack.append(val)\n",
    "        if len(self.min_stack) == 0:\n",
    "            self.min_stack.append(val)\n",
    "        # edge case 0, 1, 0 min_stack 需要保持两个 0\n",
    "        elif len(self.min_stack) > 0 and self.min_stack[-1] >= val:\n",
    "            self.min_stack.append(val)\n",
    "\n",
    "    def pop(self) -> None: # Time Complexity: O(1)\n",
    "        val = self.stack.pop()\n",
    "        if self.min_stack[-1] == val:\n",
    "            self.min_stack.pop()\n",
    "\n",
    "    def top(self) -> int: # Time Complexity: O(1)\n",
    "        return self.stack[-1]\n",
    "\n",
    "    def getMin(self) -> int: # Time Complexity: O(1)\n",
    "        return self.min_stack[-1]"
   ]
  }
 ],
 "metadata": {
  "language_info": {
   "name": "python"
  }
 },
 "nbformat": 4,
 "nbformat_minor": 2
}
