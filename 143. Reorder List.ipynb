{
    "cells": [
        {
            "cell_type": "markdown",
            "metadata": {},
            "source": [
                "# 143. Reorder List\n",
                "\n",
                "You are given the head of a singly linked-list. The list can be represented as:\n",
                "\n",
                "L0 → L1 → … → Ln - 1 → Ln\n",
                "Reorder the list to be on the following form:\n",
                "\n",
                "L0 → Ln → L1 → Ln - 1 → L2 → Ln - 2 → …\n",
                "You may not modify the values in the list's nodes. Only nodes themselves may be changed.\n",
                "\n",
                "https://leetcode.com/problems/reorder-list/description/"
            ]
        },
        {
            "cell_type": "code",
            "execution_count": 1,
            "metadata": {},
            "outputs": [],
            "source": [
                "# Time Complexity: O()\n",
                "# Space Complexity: O()\n"
            ]
        }
    ],
    "metadata": {
        "kernelspec": {
            "display_name": "Python 3",
            "language": "python",
            "name": "python3"
        },
        "language_info": {
            "codemirror_mode": {
                "name": "ipython",
                "version": 3
            },
            "file_extension": ".py",
            "mimetype": "text/x-python",
            "name": "python",
            "nbconvert_exporter": "python",
            "pygments_lexer": "ipython3",
            "version": "3.8.8"
        }
    },
    "nbformat": 4,
    "nbformat_minor": 2
}
